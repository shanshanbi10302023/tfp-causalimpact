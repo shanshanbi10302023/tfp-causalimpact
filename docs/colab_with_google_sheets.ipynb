{
  "cells": [
    {
      "cell_type": "markdown",
      "metadata": {
        "id": "view-in-github"
      },
      "source": [
        "\u003ca target=\"_blank\" href=\"https://colab.research.google.com/github/google/tfp-causalimpact/blob/main/docs/colab_with_google_sheets.ipynb\"\u003e\n",
        "  \u003cimg src=\"https://colab.research.google.com/assets/colab-badge.svg\" alt=\"Open In Colab\"/\u003e\n",
        "\u003c/a\u003e"
      ]
    },
    {
      "cell_type": "markdown",
      "metadata": {
        "id": "JndnmDMp66FL"
      },
      "source": [
        "Copyright 2018 Google LLC.\n",
        "\n",
        "Licensed under the Apache License, Version 2.0 (the \"License\");"
      ]
    },
    {
      "cell_type": "code",
      "execution_count": null,
      "metadata": {
        "id": "hMqWDc_m6rUC"
      },
      "outputs": [],
      "source": [
        "# Licensed under the Apache License, Version 2.0 (the \"License\");\n",
        "# you may not use this file except in compliance with the License.\n",
        "# You may obtain a copy of the License at\n",
        "#\n",
        "# https://www.apache.org/licenses/LICENSE-2.0\n",
        "#\n",
        "# Unless required by applicable law or agreed to in writing, software\n",
        "# distributed under the License is distributed on an \"AS IS\" BASIS,\n",
        "# WITHOUT WARRANTIES OR CONDITIONS OF ANY KIND, either express or implied.\n",
        "# See the License for the specific language governing permissions and\n",
        "# limitations under the License."
      ]
    },
    {
      "cell_type": "markdown",
      "metadata": {
        "id": "hA448Sh418X1"
      },
      "source": [
        "#  [Causal Impact] Python Colab with Google Sheets"
      ]
    },
    {
      "cell_type": "markdown",
      "metadata": {
        "id": "4zw-e0aYOCm6"
      },
      "source": [
        "Causal Impact can be used to estimate the impact an event has on a key performance indicator (KPI) using synthetic control groups that are correlated to the KPI but not impacted by the event.\n",
        "\n",
        "This Colab runs a Causal Impact analysis using a Google Sheet for inputs.\n",
        "\n",
        "## Steps for Running\n",
        "* Define KPI to measure\n",
        "* Choose control groups that are correlated but not impacted.\n",
        "* Collect + populate the data.\n",
        "* Run the analysis.\n",
        "* Understand the output.\n",
        "\n",
        "## Picking Control Groups\n",
        "\n",
        "* Unaffected predictors: The covariates (control) are unaffected by the intervention.\n",
        "* Stable relationship: The relationship between the covariates (control) and the outcome variable (response) would have remained stable under no treatment.\n",
        "\n",
        "If the target KPI can be split by location then the markets where the event isn't used can be used as control groups. For example conversions in UK around an Diwali related advert is run can be compared to conversions in France where the advert wasn't run. Even though the control group is the same as the KPI it can't be used as a covariate as it isn't impacted by the advert.\n",
        "\n",
        "Control groups should be related to the outcome but not changed by the event. To check the incrementallity effect on conversions from a branded campaign on YouTube the covariates to use could be clicks, sessions, new users from site analytics.\n",
        "\n",
        "\n",
        "## Use Cases For Causal Impact\n",
        "* Check the impact of a branding campaign.\n",
        "* Validate account restucturing on campaigns.\n",
        "* Measure the impact of a drop in spend.\n",
        "* Prove the incremental value of running additional campaign types.\n",
        "* Post analysis of an unplanned event.\n",
        "\n",
        "## More Information\n",
        "Visit the [tfp-causalimpact](https://github.com/google/tfp-causalimpact) library on GitHub for more details on the implementation and algorithm.\n",
        "\n",
        "See also `Inferring causal impact using Bayesian structural time-series models.` Kay H. Brodersen, Fabian Gallusser, Jim Koehler, Nicolas Remy, Steven L. Scott. Annals of Applied Statistics, vol. 9 (2015), pp. 247-274. https://research.google/pubs/pub41854/\n",
        "\n",
        "\n"
      ]
    },
    {
      "cell_type": "markdown",
      "metadata": {
        "id": "HgCwaeQxGadT"
      },
      "source": [
        "## Google Sheet Template Configuration\n",
        "\n",
        "Make a copy of this Google Sheet and use the copy in the input below\n",
        " https://docs.google.com/spreadsheets/d/1VgA7uMxYF6tsnBwgJqpj4oaLAqYPQlb8pBI0VIDGel4/edit#gid=0\n",
        "\n",
        "\n",
        "### Valid Formatting\n",
        "\n",
        " * Apart from the first column the headings can be changed.\n",
        " * The first column is the date of the observation and must be named `date`.\n",
        "     * The date format must be YYYY-MM-DD.\n",
        "     * In this Colab the dates are daily values. Not weekly.\n",
        "     * Order the rows chronologically from oldest to newest.\n",
        " * The second column is the key performance indicator (KPI) to analyse.\n",
        " * The third column and after are covariates aka control groups.\n",
        " * Replace or estimate empty or null values.\n",
        " * Numbers must be in the format 1234.56. If there are commas, it will not convert properly (e.g. 1,234.56)\n"
      ]
    },
    {
      "cell_type": "markdown",
      "metadata": {
        "id": "o3zgbzj3GdMR"
      },
      "source": [
        "## Configure The Analysis"
      ]
    },
    {
      "cell_type": "code",
      "execution_count": null,
      "metadata": {
        "cellView": "form",
        "id": "Dq8CSeEv9Zrj"
      },
      "outputs": [],
      "source": [
        "# Google Sheet for data streams\n",
        "google_sheets_url = 'https://docs.google.com/spreadsheets/d/1VgA7uMxYF6tsnBwgJqpj4oaLAqYPQlb8pBI0VIDGel4/edit#gid=0'#@param\n",
        "\n",
        "#date of event\n",
        "event_date = '2019-10-07'#@param {type:\"date\"}\n",
        "\n",
        "#How many days before intervention will be analyzed\n",
        "days_before_event = 90#@param {type:\"number\"}\n",
        "\n",
        "#how many days post intervention wou want to analyze (including the event date)\n",
        "days_after_event = 7#@param {type:\"number\"}\n",
        "\n",
        "#Number of series used as counterfactuals (0 to many, each in a column of the sheet)\n",
        "number_of_covariates = 4#@param {type:\"number\"}\n",
        "\n",
        "!pip install tfp-causalimpact itables\n",
        "import pandas as pd\n",
        "import numpy as np\n",
        "import causalimpact\n",
        "from IPython.display import display, Markdown\n",
        "from itables import show\n",
        "\n",
        "#convert input to DateTime\n",
        "event_date = pd.to_datetime(event_date, format='%Y-%m-%d', errors='ignore')\n",
        "\n",
        "print(\"Causal Impact version: \", causalimpact.__version__)"
      ]
    },
    {
      "cell_type": "markdown",
      "metadata": {
        "id": "DiEdg5Y6qvUV"
      },
      "source": [
        "## Load Data From Google Sheets"
      ]
    },
    {
      "cell_type": "code",
      "execution_count": null,
      "metadata": {
        "id": "lRPdzQAW5BPW"
      },
      "outputs": [],
      "source": [
        "from google.colab import auth\n",
        "auth.authenticate_user()\n",
        "\n",
        "import gspread\n",
        "from google.auth import default\n",
        "creds, _ = default()\n",
        "\n",
        "gc = gspread.authorize(creds)\n",
        "\n",
        "worksheet = gc.open_by_url(google_sheets_url).sheet1\n",
        "\n",
        "# get_all_values gives a list of rows.\n",
        "rows = worksheet.get_all_values()\n",
        "\n",
        "df = pd.DataFrame.from_records(rows)\n",
        "\n",
        "#get column names from first row\n",
        "df.columns = df.iloc[0]\n",
        "\n",
        "#drop row with column names\n",
        "df = df.drop(df.index[0])\n",
        "\n",
        "#reset indexes\n",
        "df = df.reset_index(drop=True)\n",
        "\n",
        "#convert numeric data to numeric types\n",
        "df = df.apply(pd.to_numeric, errors='ignore')\n",
        "\n",
        "#convert dates to dates type\n",
        "df.date = pd.to_datetime(df.date, format='%Y-%m-%d', errors='ignore')\n",
        "\n",
        "\n",
        "\n",
        "assert event_date in df.date.values, f\"The Google Sheet doesn't contain the input date: \\\"{event_date.date()}\\\".\"\n",
        "\n",
        "event_index = df.loc[df.date==event_date].index[0]-1;\n",
        "\n",
        "#explore data\n",
        "display(Markdown(\"###Explore the imported data\"))\n",
        "show(df);\n",
        "\n",
        "display(Markdown(\"###Validate everything has a value\"))\n",
        "display(Markdown(\"If any of the values are False there is missing data in that column.\"))\n",
        "display(df.notnull().all())\n",
        "\n",
        "\n",
        "display(Markdown(\"###Visually compare the covariates\"))\n",
        "normalized_df = df.iloc[:,0:-1].apply(lambda x: (x-x.mean())/ x.std(), axis=0)\n",
        "normalized_df.plot(x='date', figsize=(12, 5));\n"
      ]
    },
    {
      "cell_type": "markdown",
      "metadata": {
        "id": "NkJ1XOx10d9d"
      },
      "source": [
        "## Optional Input Validation"
      ]
    },
    {
      "cell_type": "code",
      "execution_count": null,
      "metadata": {
        "id": "iFCrmYWw0U-_"
      },
      "outputs": [],
      "source": [
        "display(df.corr(method='pearson', numeric_only=False))\n",
        "\n",
        "df.describe()"
      ]
    },
    {
      "cell_type": "markdown",
      "metadata": {
        "id": "7R9Y_ZwpMSip"
      },
      "source": [
        "## Run The Analysis"
      ]
    },
    {
      "cell_type": "code",
      "execution_count": null,
      "metadata": {
        "id": "O4mliJ6gXzBJ"
      },
      "outputs": [],
      "source": [
        "pre_period = [int(max(0, event_index-days_before_event)), int(event_index)]\n",
        "post_period = [int(event_index + 1), int(event_index + days_after_event)]\n",
        "\n",
        "impact = causalimpact.fit_causalimpact(\n",
        "    data=df[df.columns[1:number_of_covariates + 2]],\n",
        "    pre_period=pre_period,\n",
        "    post_period=post_period)\n",
        "\n",
        "display(Markdown(\"##Summary report\"))\n",
        "print(causalimpact.summary(impact, output_format='summary'))\n",
        "\n",
        "display(Markdown(\"##Plotted results\"))\n",
        "display(causalimpact.plot(impact, static_plot=False, chart_width=800))\n",
        "\n",
        "display(Markdown(\"##Detailed Report\"))\n",
        "print(causalimpact.summary(impact, output_format='report'))\n"
      ]
    }
  ],
  "metadata": {
    "accelerator": "GPU",
    "colab": {
      "provenance": []
    },
    "kernelspec": {
      "display_name": "Python 3",
      "name": "python3"
    }
  },
  "nbformat": 4,
  "nbformat_minor": 0
}
